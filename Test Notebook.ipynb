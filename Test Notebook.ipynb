{
 "cells": [
  {
   "cell_type": "code",
   "execution_count": 4,
   "id": "cd8bb615",
   "metadata": {},
   "outputs": [
    {
     "name": "stdout",
     "output_type": "stream",
     "text": [
      "Hello Bob\n"
     ]
    }
   ],
   "source": [
    "name = \"Bob\"\n",
    "print(f\"Hello {name}\")\n"
   ]
  },
  {
   "cell_type": "code",
   "execution_count": 1,
   "id": "9dbc66d4",
   "metadata": {},
   "outputs": [],
   "source": [
    "def myfunc(x,y):\n",
    "    return sum((x,y))"
   ]
  },
  {
   "cell_type": "code",
   "execution_count": 2,
   "id": "70ea787b",
   "metadata": {},
   "outputs": [
    {
     "data": {
      "text/plain": [
       "400"
      ]
     },
     "execution_count": 2,
     "metadata": {},
     "output_type": "execute_result"
    }
   ],
   "source": [
    "myfunc(100,300)\n"
   ]
  },
  {
   "cell_type": "code",
   "execution_count": 4,
   "id": "ad1176bb",
   "metadata": {},
   "outputs": [
    {
     "data": {
      "text/plain": [
       "32"
      ]
     },
     "execution_count": 4,
     "metadata": {},
     "output_type": "execute_result"
    }
   ],
   "source": [
    "sum((12,20))"
   ]
  },
  {
   "cell_type": "code",
   "execution_count": 5,
   "id": "e73aa738",
   "metadata": {},
   "outputs": [],
   "source": [
    "def myfunc(*args):\n",
    "    return sum(args) * 0.5\n",
    "    "
   ]
  },
  {
   "cell_type": "code",
   "execution_count": 6,
   "id": "f53aad0c",
   "metadata": {},
   "outputs": [
    {
     "data": {
      "text/plain": [
       "45.0"
      ]
     },
     "execution_count": 6,
     "metadata": {},
     "output_type": "execute_result"
    }
   ],
   "source": [
    "myfunc(20,30,40)"
   ]
  },
  {
   "cell_type": "code",
   "execution_count": 9,
   "id": "a330a592",
   "metadata": {},
   "outputs": [],
   "source": [
    "def myfunc(*args):\n",
    "    even_list = []\n",
    "    for evens in args:\n",
    "        if evens%2==0:\n",
    "            evens.append(even_list)\n",
    "        else:\n",
    "            pass\n",
    "    return even_list\n"
   ]
  },
  {
   "cell_type": "code",
   "execution_count": 10,
   "id": "5e1b0426",
   "metadata": {},
   "outputs": [
    {
     "ename": "AttributeError",
     "evalue": "'int' object has no attribute 'append'",
     "output_type": "error",
     "traceback": [
      "\u001b[1;31m---------------------------------------------------------------------------\u001b[0m",
      "\u001b[1;31mAttributeError\u001b[0m                            Traceback (most recent call last)",
      "\u001b[1;32m<ipython-input-10-60e097fa6a79>\u001b[0m in \u001b[0;36m<module>\u001b[1;34m\u001b[0m\n\u001b[1;32m----> 1\u001b[1;33m \u001b[0mmyfunc\u001b[0m\u001b[1;33m(\u001b[0m\u001b[1;36m1\u001b[0m\u001b[1;33m,\u001b[0m\u001b[1;36m2\u001b[0m\u001b[1;33m,\u001b[0m\u001b[1;36m3\u001b[0m\u001b[1;33m,\u001b[0m\u001b[1;36m4\u001b[0m\u001b[1;33m,\u001b[0m\u001b[1;36m5\u001b[0m\u001b[1;33m,\u001b[0m\u001b[1;36m6\u001b[0m\u001b[1;33m,\u001b[0m\u001b[1;36m7\u001b[0m\u001b[1;33m)\u001b[0m\u001b[1;33m\u001b[0m\u001b[1;33m\u001b[0m\u001b[0m\n\u001b[0m",
      "\u001b[1;32m<ipython-input-9-64e22dbd0fdd>\u001b[0m in \u001b[0;36mmyfunc\u001b[1;34m(*args)\u001b[0m\n\u001b[0;32m      3\u001b[0m     \u001b[1;32mfor\u001b[0m \u001b[0mevens\u001b[0m \u001b[1;32min\u001b[0m \u001b[0margs\u001b[0m\u001b[1;33m:\u001b[0m\u001b[1;33m\u001b[0m\u001b[1;33m\u001b[0m\u001b[0m\n\u001b[0;32m      4\u001b[0m         \u001b[1;32mif\u001b[0m \u001b[0mevens\u001b[0m\u001b[1;33m%\u001b[0m\u001b[1;36m2\u001b[0m\u001b[1;33m==\u001b[0m\u001b[1;36m0\u001b[0m\u001b[1;33m:\u001b[0m\u001b[1;33m\u001b[0m\u001b[1;33m\u001b[0m\u001b[0m\n\u001b[1;32m----> 5\u001b[1;33m             \u001b[0mevens\u001b[0m\u001b[1;33m.\u001b[0m\u001b[0mappend\u001b[0m\u001b[1;33m(\u001b[0m\u001b[0meven_list\u001b[0m\u001b[1;33m)\u001b[0m\u001b[1;33m\u001b[0m\u001b[1;33m\u001b[0m\u001b[0m\n\u001b[0m\u001b[0;32m      6\u001b[0m         \u001b[1;32melse\u001b[0m\u001b[1;33m:\u001b[0m\u001b[1;33m\u001b[0m\u001b[1;33m\u001b[0m\u001b[0m\n\u001b[0;32m      7\u001b[0m             \u001b[1;32mpass\u001b[0m\u001b[1;33m\u001b[0m\u001b[1;33m\u001b[0m\u001b[0m\n",
      "\u001b[1;31mAttributeError\u001b[0m: 'int' object has no attribute 'append'"
     ]
    }
   ],
   "source": [
    "myfunc(1,2,3,4,5,6,7)"
   ]
  },
  {
   "cell_type": "code",
   "execution_count": 37,
   "id": "08ed01e2",
   "metadata": {},
   "outputs": [],
   "source": [
    "def myfunc(*args):\n",
    "    even_list = []\n",
    "    for x in args:\n",
    "        if x%2==0:\n",
    "            even_list.append(x)\n",
    "        else:\n",
    "            pass\n",
    "    return even_list"
   ]
  },
  {
   "cell_type": "code",
   "execution_count": null,
   "id": "6d337d60",
   "metadata": {},
   "outputs": [],
   "source": []
  },
  {
   "cell_type": "code",
   "execution_count": null,
   "id": "3a4293e4",
   "metadata": {},
   "outputs": [],
   "source": []
  },
  {
   "cell_type": "code",
   "execution_count": null,
   "id": "d2f2773b",
   "metadata": {},
   "outputs": [],
   "source": []
  },
  {
   "cell_type": "code",
   "execution_count": null,
   "id": "8b75c728",
   "metadata": {},
   "outputs": [],
   "source": []
  },
  {
   "cell_type": "code",
   "execution_count": 66,
   "id": "2acd7950",
   "metadata": {},
   "outputs": [],
   "source": [
    "def master_yoda(text):\n",
    "    text_as_list = text.split(\" \")\n",
    "    text_as_list = text_as_list.reverse()\n",
    "    new_text = \"\".join(text_as_list)\n",
    "    print(new_text)"
   ]
  },
  {
   "cell_type": "code",
   "execution_count": 67,
   "id": "074c92d6",
   "metadata": {},
   "outputs": [
    {
     "name": "stdout",
     "output_type": "stream",
     "text": [
      "IamHere\n"
     ]
    }
   ],
   "source": [
    "master_yoda(\"I am Here\")"
   ]
  },
  {
   "cell_type": "code",
   "execution_count": 90,
   "id": "fc32732f",
   "metadata": {},
   "outputs": [],
   "source": [
    "def almost_there(n):\n",
    "    if int(n) in range(100, 111):\n",
    "        return True\n",
    "    elif n in range(90, 101):\n",
    "        return True\n",
    "    elif n in range(200, 211):\n",
    "        return True\n",
    "    elif n in range(190, 201):\n",
    "        return True\n",
    "    else:\n",
    "        return False\n",
    "    "
   ]
  },
  {
   "cell_type": "code",
   "execution_count": 89,
   "id": "c507a7a9",
   "metadata": {},
   "outputs": [
    {
     "data": {
      "text/plain": [
       "False"
      ]
     },
     "execution_count": 89,
     "metadata": {},
     "output_type": "execute_result"
    }
   ],
   "source": [
    "almost_there(111)"
   ]
  },
  {
   "cell_type": "code",
   "execution_count": 74,
   "id": "dbce9838",
   "metadata": {},
   "outputs": [
    {
     "data": {
      "text/plain": [
       "[200, 201, 202, 203, 204, 205, 206, 207, 208, 209, 210]"
      ]
     },
     "execution_count": 74,
     "metadata": {},
     "output_type": "execute_result"
    }
   ],
   "source": [
    "list(range(200,211))"
   ]
  },
  {
   "cell_type": "code",
   "execution_count": null,
   "id": "b4e2d2ba",
   "metadata": {},
   "outputs": [],
   "source": []
  },
  {
   "cell_type": "code",
   "execution_count": null,
   "id": "ea6f0670",
   "metadata": {},
   "outputs": [],
   "source": []
  },
  {
   "cell_type": "code",
   "execution_count": null,
   "id": "4ab9aefd",
   "metadata": {},
   "outputs": [],
   "source": []
  },
  {
   "cell_type": "code",
   "execution_count": null,
   "id": "52aea686",
   "metadata": {},
   "outputs": [],
   "source": []
  },
  {
   "cell_type": "code",
   "execution_count": 110,
   "id": "f110ecdb",
   "metadata": {},
   "outputs": [],
   "source": [
    "def paper_doll(text):\n",
    "    #Text to List & List to Append to\n",
    "    text_list = list(text)\n",
    "    temp_list = []\n",
    "    list_to_return = []\n",
    "    \n",
    "    for x in text_list:\n",
    "        temp_list = x*3\n",
    "        list_to_return.append(temp_list)\n",
    "        \n",
    "    return ''.join(list_to_return)\n"
   ]
  },
  {
   "cell_type": "code",
   "execution_count": 111,
   "id": "2a5988d3",
   "metadata": {},
   "outputs": [
    {
     "data": {
      "text/plain": [
       "'HHHeeellllllooo'"
      ]
     },
     "execution_count": 111,
     "metadata": {},
     "output_type": "execute_result"
    }
   ],
   "source": [
    "paper_doll(\"Hello\")"
   ]
  },
  {
   "cell_type": "code",
   "execution_count": 112,
   "id": "9acfd890",
   "metadata": {},
   "outputs": [
    {
     "data": {
      "text/plain": [
       "13"
      ]
     },
     "execution_count": 112,
     "metadata": {},
     "output_type": "execute_result"
    }
   ],
   "source": [
    "sum([1,3,4,5])"
   ]
  },
  {
   "cell_type": "code",
   "execution_count": 117,
   "id": "2d22d799",
   "metadata": {},
   "outputs": [
    {
     "name": "stdout",
     "output_type": "stream",
     "text": [
      "   *\n",
      "\n",
      "  * *\n",
      "\n",
      "*******\n",
      "\n",
      "*     *\n",
      "\n",
      "*     *\n"
     ]
    }
   ],
   "source": [
    "print(\"   *\\n\\n  * *\\n\\n*******\\n\\n*     *\\n\\n*     *\")"
   ]
  },
  {
   "cell_type": "code",
   "execution_count": 118,
   "id": "13fc2721",
   "metadata": {},
   "outputs": [
    {
     "name": "stdout",
     "output_type": "stream",
     "text": [
      "*****\n",
      "\n",
      "*    *\n",
      "\n",
      "*****\n",
      "\n",
      "*    *\n",
      "\n",
      "*****\n"
     ]
    }
   ],
   "source": [
    "print(\"*****\\n\\n*    *\\n\\n*****\\n\\n*    *\\n\\n*****\")"
   ]
  },
  {
   "cell_type": "code",
   "execution_count": 127,
   "id": "2972ac94",
   "metadata": {},
   "outputs": [],
   "source": [
    "def count_primes(num):\n",
    "    \n",
    "    prime_counter = 0\n",
    "    num_range = range(0,num)\n",
    "    \n",
    "    for x in num_range:\n",
    "        if num%2==0:\n",
    "            pass\n",
    "        elif num%3==0:\n",
    "            pass\n",
    "        elif num%4==0:\n",
    "            pass\n",
    "        elif num%5==0:\n",
    "            pass\n",
    "        elif num%6==0:\n",
    "            pass\n",
    "        elif num%7==0:\n",
    "            pass\n",
    "        elif num%8==0:\n",
    "            pass\n",
    "        elif num%9==0:\n",
    "            pass\n",
    "        else:\n",
    "            prime_counter+=1\n",
    "    \n",
    "    return prime_counter\n",
    "\n",
    "\n"
   ]
  },
  {
   "cell_type": "code",
   "execution_count": 128,
   "id": "4711a8df",
   "metadata": {},
   "outputs": [
    {
     "data": {
      "text/plain": [
       "1"
      ]
     },
     "execution_count": 128,
     "metadata": {},
     "output_type": "execute_result"
    }
   ],
   "source": [
    "1%2"
   ]
  },
  {
   "cell_type": "code",
   "execution_count": 131,
   "id": "6468ae42",
   "metadata": {},
   "outputs": [
    {
     "data": {
      "text/plain": [
       "1"
      ]
     },
     "execution_count": 131,
     "metadata": {},
     "output_type": "execute_result"
    }
   ],
   "source": [
    "count_primes(1)"
   ]
  },
  {
   "cell_type": "code",
   "execution_count": 183,
   "id": "dc20fa6c",
   "metadata": {},
   "outputs": [],
   "source": [
    "def myfunc(string):\n",
    "    \n",
    "    position = 0\n",
    "    new_list = []\n",
    "    string_list = list(string)\n",
    "    \n",
    "    \n",
    "    for pos in string_list:\n",
    "        if position==0:\n",
    "            position+=1\n",
    "            \n",
    "            new_list.append(pos.upper())\n",
    "        elif position==1:\n",
    "            position-=1\n",
    "            \n",
    "            new_list.append(pos.lower())\n",
    "    \n",
    "    return ''.join(new_list)"
   ]
  },
  {
   "cell_type": "code",
   "execution_count": 185,
   "id": "9b6ffeae",
   "metadata": {},
   "outputs": [
    {
     "data": {
      "text/plain": [
       "'HeLlO WoRlD'"
      ]
     },
     "execution_count": 185,
     "metadata": {},
     "output_type": "execute_result"
    }
   ],
   "source": [
    "myfunc('Hello World')"
   ]
  },
  {
   "cell_type": "code",
   "execution_count": 157,
   "id": "64117b59",
   "metadata": {},
   "outputs": [
    {
     "name": "stdout",
     "output_type": "stream",
     "text": [
      "e\n"
     ]
    }
   ],
   "source": [
    "string='HelloWorld'\n",
    "\n",
    "string_list = list(string)\n",
    "\n",
    "print(string_list[1])"
   ]
  },
  {
   "cell_type": "code",
   "execution_count": 158,
   "id": "3bc69505",
   "metadata": {},
   "outputs": [
    {
     "data": {
      "text/plain": [
       "'l'"
      ]
     },
     "execution_count": 158,
     "metadata": {},
     "output_type": "execute_result"
    }
   ],
   "source": [
    "string_list[3]"
   ]
  },
  {
   "cell_type": "code",
   "execution_count": 193,
   "id": "1295401b",
   "metadata": {},
   "outputs": [],
   "source": [
    "def name_age():\n",
    "    name = input(\"Can I have your name? \")\n",
    "    age = int(input(\"Can I have your age? \"))\n",
    "    birthday = input(\"Have you had your birthday yet this year? (Yes/No) \")\n",
    "    \n",
    "    if birthday=='Yes' or birthday=='yes':\n",
    "        age_100 = (100-age)+2021\n",
    "        \n",
    "        print(f\"{name} you will be 100 in the year {age_100}!\")\n",
    "    else:\n",
    "        age_100 = (99-age)+2021\n",
    "        print(f\"{name} you will be 100 in the year {age_100}!\")"
   ]
  },
  {
   "cell_type": "code",
   "execution_count": 194,
   "id": "ced960b8",
   "metadata": {},
   "outputs": [
    {
     "name": "stdout",
     "output_type": "stream",
     "text": [
      "Can I have your name? Jarred\n",
      "Can I have your age? 22\n",
      "Have you had your birthday yet this year? (Yes/No) No\n",
      "Jarred you will be 100 in the year 2098!\n"
     ]
    }
   ],
   "source": [
    "name_age()"
   ]
  },
  {
   "cell_type": "code",
   "execution_count": 197,
   "id": "ef2ad98e",
   "metadata": {},
   "outputs": [],
   "source": [
    "def factor_check():\n",
    "    num = int(input(\"Give me a number to check! \"))\n",
    "    factor = int(input(\"Now a number to divide by! \"))\n",
    "\n",
    "    if num%factor==0:\n",
    "        print(f\"The number {num} is divisible by {factor}!\")\n",
    "    else:\n",
    "        print(f\"The number {num} is divisible by {factor}!\")"
   ]
  },
  {
   "cell_type": "code",
   "execution_count": 198,
   "id": "732a6c17",
   "metadata": {},
   "outputs": [
    {
     "name": "stdout",
     "output_type": "stream",
     "text": [
      "Give me a number to check! 44\n",
      "Now a number to divide by! 11\n",
      "The number 44 is divisible by 11!\n"
     ]
    }
   ],
   "source": [
    "factor_check()"
   ]
  },
  {
   "cell_type": "code",
   "execution_count": 199,
   "id": "7afe5409",
   "metadata": {},
   "outputs": [],
   "source": [
    "def list_less_than_five(x):\n",
    "    \n",
    "    new_list = []\n",
    "    \n",
    "    for lst in x:\n",
    "        if lst<=5:\n",
    "            new_list.append(lst)\n",
    "        else:\n",
    "            pass\n",
    "    print(new_list)"
   ]
  },
  {
   "cell_type": "code",
   "execution_count": 200,
   "id": "a9c50f5f",
   "metadata": {},
   "outputs": [
    {
     "name": "stdout",
     "output_type": "stream",
     "text": [
      "[1, 2, 3, 4, 5]\n"
     ]
    }
   ],
   "source": [
    "list_less_than_five([1,2,3,4,5,6])"
   ]
  },
  {
   "cell_type": "code",
   "execution_count": null,
   "id": "d5986cf0",
   "metadata": {},
   "outputs": [],
   "source": [
    "def divisible_list():\n",
    "    div_list = []\n",
    "    inp_num = int(input(\"What number would you like to check for Divisors? \"))\n",
    "\n",
    "    for x in range(0,inp_num):\n",
    "        \n",
    "        if inp_num%x==0:\n",
    "            div_list.append(x)\n",
    "        \n",
    "    return div_list"
   ]
  },
  {
   "cell_type": "code",
   "execution_count": null,
   "id": "6134abb0",
   "metadata": {},
   "outputs": [],
   "source": [
    "divisible_list()"
   ]
  },
  {
   "cell_type": "code",
   "execution_count": 10,
   "id": "3f11957a",
   "metadata": {},
   "outputs": [],
   "source": [
    "def divisible_list():\n",
    "    div_list = []\n",
    "    inp_num = int(input(\"What number would you like to check for Divisors? \"))\n",
    "\n",
    "    for x in range(1,inp_num):\n",
    "        \n",
    "        if inp_num%x==0:\n",
    "            div_list.append(x)\n",
    "        \n",
    "    return f\"{inp_num} is divisible by {div_list}\""
   ]
  },
  {
   "cell_type": "code",
   "execution_count": 14,
   "id": "0e85ce2d",
   "metadata": {},
   "outputs": [
    {
     "name": "stdout",
     "output_type": "stream",
     "text": [
      "What number would you like to check for Divisors? 15851\n"
     ]
    },
    {
     "data": {
      "text/plain": [
       "'15851 is divisible by [1, 11, 121, 131, 1441]'"
      ]
     },
     "execution_count": 14,
     "metadata": {},
     "output_type": "execute_result"
    }
   ],
   "source": [
    "divisible_list()\n"
   ]
  },
  {
   "cell_type": "code",
   "execution_count": 17,
   "id": "371e36b5",
   "metadata": {},
   "outputs": [],
   "source": [
    "def unique_list(lst1,lst2):\n",
    "    \n",
    "    out_lst = []\n",
    "    \n",
    "    for x in lst1:\n",
    "        if x in lst2:\n",
    "            out_lst.append(x)\n",
    "        else:\n",
    "            pass\n",
    "    return out_lst"
   ]
  },
  {
   "cell_type": "code",
   "execution_count": 18,
   "id": "49395a38",
   "metadata": {},
   "outputs": [
    {
     "data": {
      "text/plain": [
       "[1, 1, 2, 3, 5, 8, 13]"
      ]
     },
     "execution_count": 18,
     "metadata": {},
     "output_type": "execute_result"
    }
   ],
   "source": [
    "unique_list([1, 1, 2, 3, 5, 8, 13, 21, 34, 55, 89],[1, 2, 3, 4, 5, 6, 7, 8, 9, 10, 11, 12, 13])"
   ]
  },
  {
   "cell_type": "code",
   "execution_count": 19,
   "id": "3035da69",
   "metadata": {},
   "outputs": [],
   "source": [
    "def pal_check(str):\n",
    "\n",
    "    return str==str[::-1]"
   ]
  },
  {
   "cell_type": "code",
   "execution_count": 22,
   "id": "7ed48ddf",
   "metadata": {},
   "outputs": [
    {
     "data": {
      "text/plain": [
       "False"
      ]
     },
     "execution_count": 22,
     "metadata": {},
     "output_type": "execute_result"
    }
   ],
   "source": [
    "pal_check(\"Hellah\")"
   ]
  },
  {
   "cell_type": "code",
   "execution_count": 23,
   "id": "1c15b523",
   "metadata": {},
   "outputs": [],
   "source": [
    "def even_lst(lst):\n",
    "    return [num for num in lst if num%2==0]"
   ]
  },
  {
   "cell_type": "code",
   "execution_count": 24,
   "id": "3a040ec4",
   "metadata": {},
   "outputs": [
    {
     "data": {
      "text/plain": [
       "[2, 4, 6, 8]"
      ]
     },
     "execution_count": 24,
     "metadata": {},
     "output_type": "execute_result"
    }
   ],
   "source": [
    "even_lst([1,2,3,4,5,6,7,8])"
   ]
  },
  {
   "cell_type": "code",
   "execution_count": 25,
   "id": "91bdfe1f",
   "metadata": {},
   "outputs": [
    {
     "data": {
      "text/plain": [
       "'rock'"
      ]
     },
     "execution_count": 25,
     "metadata": {},
     "output_type": "execute_result"
    }
   ],
   "source": [
    "\"Rock\".lower()"
   ]
  },
  {
   "cell_type": "code",
   "execution_count": 38,
   "id": "5ede4664",
   "metadata": {},
   "outputs": [],
   "source": [
    "def rkprsr():\n",
    "    plyr1=\"start\"\n",
    "    plyr2=\"start\"\n",
    "    if plyr1 != \"Rock\" or \"Paper\" or \"Scissors\":\n",
    "        plyr1 = input(\"Player 1! Rock, Paper, or Scissors!\").lower()\n",
    "    if plyr2 != \"Rock\" or \"Paper\" or \"Scissors\":\n",
    "        plyr2 = input(\"Player 2! Rock, Paper, or Scissors!\").lower()\n",
    "\n",
    "    if plyr1==plyr2:\n",
    "        return \"It's a Tie!\"\n",
    "    elif plyr1==\"rock\":\n",
    "        if plyr2==\"scissors\":\n",
    "            return \"Player 1 Wins!\"\n",
    "        else:\n",
    "            return \"Player 2 Wins!\"\n",
    "    elif plyr1==\"paper\":\n",
    "        if plyr2==\"rock\":\n",
    "            return \"Player 2 Wins!\"\n",
    "        else:\n",
    "            return \"Player 1 Wins!\"\n",
    "    elif plyr1==\"scissors\":\n",
    "        if plyr2==\"rock\":\n",
    "            return \"Player 2 Wins!\"\n",
    "        else:\n",
    "            return \"Player 1 Wins!\""
   ]
  },
  {
   "cell_type": "code",
   "execution_count": 40,
   "id": "18117811",
   "metadata": {},
   "outputs": [
    {
     "name": "stdout",
     "output_type": "stream",
     "text": [
      "Player 1! Rock, Paper, or Scissors!paper\n",
      "Player 2! Rock, Paper, or Scissors!rock\n"
     ]
    },
    {
     "data": {
      "text/plain": [
       "'Player 2 Wins!'"
      ]
     },
     "execution_count": 40,
     "metadata": {},
     "output_type": "execute_result"
    }
   ],
   "source": [
    "rkprsr()"
   ]
  },
  {
   "cell_type": "code",
   "execution_count": 46,
   "id": "12493057",
   "metadata": {},
   "outputs": [],
   "source": [
    "def rkprsr():\n",
    "    plyr1=\"\"\n",
    "    plyr2=\"\"\n",
    "    if plyr1 != \"Rock\" or \"Paper\" or \"Scissors\":\n",
    "        plyr1 = input(\"Player 1! Rock, Paper, or Scissors! : \").lower()\n",
    "    if plyr2 != \"Rock\" or \"Paper\" or \"Scissors\":\n",
    "        plyr2 = input(\"Player 2! Rock, Paper, or Scissors! : \").lower()\n",
    "\n",
    "    if plyr1==plyr2:\n",
    "        return \"It's a Tie!\"\n",
    "    elif plyr1==\"rock\":\n",
    "        if plyr2==\"scissors\":\n",
    "            return \"Player 1 Wins!\"\n",
    "        else:\n",
    "            return \"Player 2 Wins!\"\n",
    "    elif plyr1==\"paper\":\n",
    "        if plyr2==\"rock\":\n",
    "            return \"Player 2 Wins!\"\n",
    "        else:\n",
    "            return \"Player 1 Wins!\"\n",
    "    elif plyr1==\"scissors\":\n",
    "        if plyr2==\"rock\":\n",
    "            return \"Player 2 Wins!\"\n",
    "        else:\n",
    "            return \"Player 1 Wins!\""
   ]
  },
  {
   "cell_type": "code",
   "execution_count": 47,
   "id": "b3a6b223",
   "metadata": {},
   "outputs": [
    {
     "name": "stdout",
     "output_type": "stream",
     "text": [
      "Player 1! Rock, Paper, or Scissors! : rock\n",
      "Player 2! Rock, Paper, or Scissors! : scissors\n"
     ]
    },
    {
     "data": {
      "text/plain": [
       "'Player 1 Wins!'"
      ]
     },
     "execution_count": 47,
     "metadata": {},
     "output_type": "execute_result"
    }
   ],
   "source": [
    "rkprsr()"
   ]
  },
  {
   "cell_type": "code",
   "execution_count": 48,
   "id": "d7aadb6f",
   "metadata": {},
   "outputs": [],
   "source": [
    "def rnd_num(num):\n",
    "    rnum = random(1,9)\n",
    "\n",
    "    if rnum==num:\n",
    "        return \"Noice! That was it!\"\n",
    "    elif rnum>num:\n",
    "        return \"Oof, too low!\"\n",
    "    elif rnum<num:\n",
    "        return \"Oof, too high!\""
   ]
  },
  {
   "cell_type": "code",
   "execution_count": 49,
   "id": "c12e5965",
   "metadata": {},
   "outputs": [
    {
     "ename": "NameError",
     "evalue": "name 'random' is not defined",
     "output_type": "error",
     "traceback": [
      "\u001b[1;31m---------------------------------------------------------------------------\u001b[0m",
      "\u001b[1;31mNameError\u001b[0m                                 Traceback (most recent call last)",
      "\u001b[1;32m<ipython-input-49-4942f736560a>\u001b[0m in \u001b[0;36m<module>\u001b[1;34m\u001b[0m\n\u001b[1;32m----> 1\u001b[1;33m \u001b[0mrnd_num\u001b[0m\u001b[1;33m(\u001b[0m\u001b[1;36m3\u001b[0m\u001b[1;33m)\u001b[0m\u001b[1;33m\u001b[0m\u001b[1;33m\u001b[0m\u001b[0m\n\u001b[0m",
      "\u001b[1;32m<ipython-input-48-7bee60f24958>\u001b[0m in \u001b[0;36mrnd_num\u001b[1;34m(num)\u001b[0m\n\u001b[0;32m      1\u001b[0m \u001b[1;32mdef\u001b[0m \u001b[0mrnd_num\u001b[0m\u001b[1;33m(\u001b[0m\u001b[0mnum\u001b[0m\u001b[1;33m)\u001b[0m\u001b[1;33m:\u001b[0m\u001b[1;33m\u001b[0m\u001b[1;33m\u001b[0m\u001b[0m\n\u001b[1;32m----> 2\u001b[1;33m     \u001b[0mrnum\u001b[0m \u001b[1;33m=\u001b[0m \u001b[0mrandom\u001b[0m\u001b[1;33m(\u001b[0m\u001b[1;36m1\u001b[0m\u001b[1;33m,\u001b[0m\u001b[1;36m9\u001b[0m\u001b[1;33m)\u001b[0m\u001b[1;33m\u001b[0m\u001b[1;33m\u001b[0m\u001b[0m\n\u001b[0m\u001b[0;32m      3\u001b[0m \u001b[1;33m\u001b[0m\u001b[0m\n\u001b[0;32m      4\u001b[0m     \u001b[1;32mif\u001b[0m \u001b[0mrnum\u001b[0m\u001b[1;33m==\u001b[0m\u001b[0mnum\u001b[0m\u001b[1;33m:\u001b[0m\u001b[1;33m\u001b[0m\u001b[1;33m\u001b[0m\u001b[0m\n\u001b[0;32m      5\u001b[0m         \u001b[1;32mreturn\u001b[0m \u001b[1;34m\"Noice! That was it!\"\u001b[0m\u001b[1;33m\u001b[0m\u001b[1;33m\u001b[0m\u001b[0m\n",
      "\u001b[1;31mNameError\u001b[0m: name 'random' is not defined"
     ]
    }
   ],
   "source": [
    "rnd_num(3)"
   ]
  },
  {
   "cell_type": "code",
   "execution_count": 76,
   "id": "6d86662f",
   "metadata": {},
   "outputs": [],
   "source": [
    "def circ_area():\n",
    "    r= int(input(\"What is the radius of the circle? : \"))\n",
    "    a=((r**2)*3.14159)\n",
    "    return f\"The area of the circle is: {a}\""
   ]
  },
  {
   "cell_type": "code",
   "execution_count": 77,
   "id": "0bef8dd5",
   "metadata": {},
   "outputs": [
    {
     "name": "stdout",
     "output_type": "stream",
     "text": [
      "What is the radius of the circle? : 90\n"
     ]
    },
    {
     "data": {
      "text/plain": [
       "'The area of the circle is: 25446.879'"
      ]
     },
     "execution_count": 77,
     "metadata": {},
     "output_type": "execute_result"
    }
   ],
   "source": [
    "circ_area()"
   ]
  },
  {
   "cell_type": "code",
   "execution_count": 83,
   "id": "f837ea78",
   "metadata": {},
   "outputs": [
    {
     "ename": "SyntaxError",
     "evalue": "invalid syntax (<ipython-input-83-7267987ad920>, line 6)",
     "output_type": "error",
     "traceback": [
      "\u001b[1;36m  File \u001b[1;32m\"<ipython-input-83-7267987ad920>\"\u001b[1;36m, line \u001b[1;32m6\u001b[0m\n\u001b[1;33m    for x in **args:\u001b[0m\n\u001b[1;37m             ^\u001b[0m\n\u001b[1;31mSyntaxError\u001b[0m\u001b[1;31m:\u001b[0m invalid syntax\n"
     ]
    }
   ],
   "source": [
    "def lst_tpl(**args):\n",
    "\tlst=[]\n",
    "\ttpl=()\n",
    "    \n",
    "\n",
    "\tfor x in **args:\n",
    "\t\tlst.append(x)\n",
    "\t\ttpl.append(x)\n",
    "\treturn f\"List: {lst}\\nTuple: {tpl}\""
   ]
  },
  {
   "cell_type": "code",
   "execution_count": null,
   "id": "aecfca56",
   "metadata": {},
   "outputs": [],
   "source": []
  },
  {
   "cell_type": "code",
   "execution_count": 80,
   "id": "ca6b0e84",
   "metadata": {},
   "outputs": [
    {
     "ename": "TypeError",
     "evalue": "lst_tpl() takes 1 positional argument but 5 were given",
     "output_type": "error",
     "traceback": [
      "\u001b[1;31m---------------------------------------------------------------------------\u001b[0m",
      "\u001b[1;31mTypeError\u001b[0m                                 Traceback (most recent call last)",
      "\u001b[1;32m<ipython-input-80-a529bcb244c3>\u001b[0m in \u001b[0;36m<module>\u001b[1;34m\u001b[0m\n\u001b[1;32m----> 1\u001b[1;33m \u001b[0mlst_tpl\u001b[0m\u001b[1;33m(\u001b[0m\u001b[1;36m1\u001b[0m\u001b[1;33m,\u001b[0m\u001b[1;36m3\u001b[0m\u001b[1;33m,\u001b[0m\u001b[1;36m5\u001b[0m\u001b[1;33m,\u001b[0m\u001b[1;36m7\u001b[0m\u001b[1;33m,\u001b[0m\u001b[1;36m9\u001b[0m\u001b[1;33m)\u001b[0m\u001b[1;33m\u001b[0m\u001b[1;33m\u001b[0m\u001b[0m\n\u001b[0m",
      "\u001b[1;31mTypeError\u001b[0m: lst_tpl() takes 1 positional argument but 5 were given"
     ]
    }
   ],
   "source": [
    "lst_tpl(1,3,5,7,9)"
   ]
  },
  {
   "cell_type": "code",
   "execution_count": null,
   "id": "c8660dcd",
   "metadata": {},
   "outputs": [],
   "source": []
  }
 ],
 "metadata": {
  "kernelspec": {
   "display_name": "Python 3",
   "language": "python",
   "name": "python3"
  },
  "language_info": {
   "codemirror_mode": {
    "name": "ipython",
    "version": 3
   },
   "file_extension": ".py",
   "mimetype": "text/x-python",
   "name": "python",
   "nbconvert_exporter": "python",
   "pygments_lexer": "ipython3",
   "version": "3.8.8"
  }
 },
 "nbformat": 4,
 "nbformat_minor": 5
}
